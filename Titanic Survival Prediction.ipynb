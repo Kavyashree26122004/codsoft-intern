{
  "nbformat": 4,
  "nbformat_minor": 0,
  "metadata": {
    "colab": {
      "provenance": [],
      "authorship_tag": "ABX9TyPhkyJJe0JWsMdYArQh93XR",
      "include_colab_link": true
    },
    "kernelspec": {
      "name": "python3",
      "display_name": "Python 3"
    },
    "language_info": {
      "name": "python"
    }
  },
  "cells": [
    {
      "cell_type": "markdown",
      "metadata": {
        "id": "view-in-github",
        "colab_type": "text"
      },
      "source": [
        "<a href=\"https://colab.research.google.com/github/Kavyashree26122004/codsoft-intern/blob/main/Titanic%20Survival%20Prediction.ipynb\" target=\"_parent\"><img src=\"https://colab.research.google.com/assets/colab-badge.svg\" alt=\"Open In Colab\"/></a>"
      ]
    },
    {
      "cell_type": "code",
      "execution_count": null,
      "metadata": {
        "colab": {
          "base_uri": "https://localhost:8080/"
        },
        "id": "nSgKRxYaqTqY",
        "outputId": "c6224e3b-deb9-47b4-b508-a6c0e23ef3ed"
      },
      "outputs": [
        {
          "output_type": "stream",
          "name": "stdout",
          "text": [
            "-------------------------- DATA LOADING ---------------------------\n",
            "\n",
            "      PassengerId  Survived  Pclass  \\\n",
            "0            892         0       3   \n",
            "1            893         1       3   \n",
            "2            894         0       2   \n",
            "3            895         0       3   \n",
            "4            896         1       3   \n",
            "..           ...       ...     ...   \n",
            "413         1305         0       3   \n",
            "414         1306         1       1   \n",
            "415         1307         0       3   \n",
            "416         1308         0       3   \n",
            "417         1309         0       3   \n",
            "\n",
            "                                             Name     Sex   Age  SibSp  Parch  \\\n",
            "0                                Kelly, Mr. James    male  34.5      0      0   \n",
            "1                Wilkes, Mrs. James (Ellen Needs)  female  47.0      1      0   \n",
            "2                       Myles, Mr. Thomas Francis    male  62.0      0      0   \n",
            "3                                Wirz, Mr. Albert    male  27.0      0      0   \n",
            "4    Hirvonen, Mrs. Alexander (Helga E Lindqvist)  female  22.0      1      1   \n",
            "..                                            ...     ...   ...    ...    ...   \n",
            "413                            Spector, Mr. Woolf    male   NaN      0      0   \n",
            "414                  Oliva y Ocana, Dona. Fermina  female  39.0      0      0   \n",
            "415                  Saether, Mr. Simon Sivertsen    male  38.5      0      0   \n",
            "416                           Ware, Mr. Frederick    male   NaN      0      0   \n",
            "417                      Peter, Master. Michael J    male   NaN      1      1   \n",
            "\n",
            "                 Ticket      Fare Cabin Embarked  \n",
            "0                330911    7.8292   NaN        Q  \n",
            "1                363272    7.0000   NaN        S  \n",
            "2                240276    9.6875   NaN        Q  \n",
            "3                315154    8.6625   NaN        S  \n",
            "4               3101298   12.2875   NaN        S  \n",
            "..                  ...       ...   ...      ...  \n",
            "413           A.5. 3236    8.0500   NaN        S  \n",
            "414            PC 17758  108.9000  C105        C  \n",
            "415  SOTON/O.Q. 3101262    7.2500   NaN        S  \n",
            "416              359309    8.0500   NaN        S  \n",
            "417                2668   22.3583   NaN        C  \n",
            "\n",
            "[418 rows x 12 columns]\n"
          ]
        }
      ],
      "source": [
        "print(\"-------------------------- DATA LOADING ---------------------------\")\n",
        "import pandas as pd\n",
        "datak=pd.read_csv(\"Titanic_k.csv\")\n",
        "print(\"\\n\",datak)"
      ]
    },
    {
      "cell_type": "code",
      "source": [
        "print(\" ----------------------------- DATA PREPROCESSING ------------------------------ \")\n",
        "datak.isna()"
      ],
      "metadata": {
        "colab": {
          "base_uri": "https://localhost:8080/",
          "height": 441
        },
        "id": "EwkJyi-xqyGI",
        "outputId": "52cef4f6-0d14-4818-f326-8a8a74991650"
      },
      "execution_count": null,
      "outputs": [
        {
          "output_type": "stream",
          "name": "stdout",
          "text": [
            " ----------------------------- DATA PREPROCESSING ------------------------------ \n"
          ]
        },
        {
          "output_type": "execute_result",
          "data": {
            "text/plain": [
              "     PassengerId  Survived  Pclass   Name    Sex    Age  SibSp  Parch  Ticket  \\\n",
              "0          False     False   False  False  False  False  False  False   False   \n",
              "1          False     False   False  False  False  False  False  False   False   \n",
              "2          False     False   False  False  False  False  False  False   False   \n",
              "3          False     False   False  False  False  False  False  False   False   \n",
              "4          False     False   False  False  False  False  False  False   False   \n",
              "..           ...       ...     ...    ...    ...    ...    ...    ...     ...   \n",
              "413        False     False   False  False  False   True  False  False   False   \n",
              "414        False     False   False  False  False  False  False  False   False   \n",
              "415        False     False   False  False  False  False  False  False   False   \n",
              "416        False     False   False  False  False   True  False  False   False   \n",
              "417        False     False   False  False  False   True  False  False   False   \n",
              "\n",
              "      Fare  Cabin  Embarked  \n",
              "0    False   True     False  \n",
              "1    False   True     False  \n",
              "2    False   True     False  \n",
              "3    False   True     False  \n",
              "4    False   True     False  \n",
              "..     ...    ...       ...  \n",
              "413  False   True     False  \n",
              "414  False  False     False  \n",
              "415  False   True     False  \n",
              "416  False   True     False  \n",
              "417  False   True     False  \n",
              "\n",
              "[418 rows x 12 columns]"
            ],
            "text/html": [
              "\n",
              "  <div id=\"df-54a0e164-5ffd-43f2-a992-4bcbe778b7e9\" class=\"colab-df-container\">\n",
              "    <div>\n",
              "<style scoped>\n",
              "    .dataframe tbody tr th:only-of-type {\n",
              "        vertical-align: middle;\n",
              "    }\n",
              "\n",
              "    .dataframe tbody tr th {\n",
              "        vertical-align: top;\n",
              "    }\n",
              "\n",
              "    .dataframe thead th {\n",
              "        text-align: right;\n",
              "    }\n",
              "</style>\n",
              "<table border=\"1\" class=\"dataframe\">\n",
              "  <thead>\n",
              "    <tr style=\"text-align: right;\">\n",
              "      <th></th>\n",
              "      <th>PassengerId</th>\n",
              "      <th>Survived</th>\n",
              "      <th>Pclass</th>\n",
              "      <th>Name</th>\n",
              "      <th>Sex</th>\n",
              "      <th>Age</th>\n",
              "      <th>SibSp</th>\n",
              "      <th>Parch</th>\n",
              "      <th>Ticket</th>\n",
              "      <th>Fare</th>\n",
              "      <th>Cabin</th>\n",
              "      <th>Embarked</th>\n",
              "    </tr>\n",
              "  </thead>\n",
              "  <tbody>\n",
              "    <tr>\n",
              "      <th>0</th>\n",
              "      <td>False</td>\n",
              "      <td>False</td>\n",
              "      <td>False</td>\n",
              "      <td>False</td>\n",
              "      <td>False</td>\n",
              "      <td>False</td>\n",
              "      <td>False</td>\n",
              "      <td>False</td>\n",
              "      <td>False</td>\n",
              "      <td>False</td>\n",
              "      <td>True</td>\n",
              "      <td>False</td>\n",
              "    </tr>\n",
              "    <tr>\n",
              "      <th>1</th>\n",
              "      <td>False</td>\n",
              "      <td>False</td>\n",
              "      <td>False</td>\n",
              "      <td>False</td>\n",
              "      <td>False</td>\n",
              "      <td>False</td>\n",
              "      <td>False</td>\n",
              "      <td>False</td>\n",
              "      <td>False</td>\n",
              "      <td>False</td>\n",
              "      <td>True</td>\n",
              "      <td>False</td>\n",
              "    </tr>\n",
              "    <tr>\n",
              "      <th>2</th>\n",
              "      <td>False</td>\n",
              "      <td>False</td>\n",
              "      <td>False</td>\n",
              "      <td>False</td>\n",
              "      <td>False</td>\n",
              "      <td>False</td>\n",
              "      <td>False</td>\n",
              "      <td>False</td>\n",
              "      <td>False</td>\n",
              "      <td>False</td>\n",
              "      <td>True</td>\n",
              "      <td>False</td>\n",
              "    </tr>\n",
              "    <tr>\n",
              "      <th>3</th>\n",
              "      <td>False</td>\n",
              "      <td>False</td>\n",
              "      <td>False</td>\n",
              "      <td>False</td>\n",
              "      <td>False</td>\n",
              "      <td>False</td>\n",
              "      <td>False</td>\n",
              "      <td>False</td>\n",
              "      <td>False</td>\n",
              "      <td>False</td>\n",
              "      <td>True</td>\n",
              "      <td>False</td>\n",
              "    </tr>\n",
              "    <tr>\n",
              "      <th>4</th>\n",
              "      <td>False</td>\n",
              "      <td>False</td>\n",
              "      <td>False</td>\n",
              "      <td>False</td>\n",
              "      <td>False</td>\n",
              "      <td>False</td>\n",
              "      <td>False</td>\n",
              "      <td>False</td>\n",
              "      <td>False</td>\n",
              "      <td>False</td>\n",
              "      <td>True</td>\n",
              "      <td>False</td>\n",
              "    </tr>\n",
              "    <tr>\n",
              "      <th>...</th>\n",
              "      <td>...</td>\n",
              "      <td>...</td>\n",
              "      <td>...</td>\n",
              "      <td>...</td>\n",
              "      <td>...</td>\n",
              "      <td>...</td>\n",
              "      <td>...</td>\n",
              "      <td>...</td>\n",
              "      <td>...</td>\n",
              "      <td>...</td>\n",
              "      <td>...</td>\n",
              "      <td>...</td>\n",
              "    </tr>\n",
              "    <tr>\n",
              "      <th>413</th>\n",
              "      <td>False</td>\n",
              "      <td>False</td>\n",
              "      <td>False</td>\n",
              "      <td>False</td>\n",
              "      <td>False</td>\n",
              "      <td>True</td>\n",
              "      <td>False</td>\n",
              "      <td>False</td>\n",
              "      <td>False</td>\n",
              "      <td>False</td>\n",
              "      <td>True</td>\n",
              "      <td>False</td>\n",
              "    </tr>\n",
              "    <tr>\n",
              "      <th>414</th>\n",
              "      <td>False</td>\n",
              "      <td>False</td>\n",
              "      <td>False</td>\n",
              "      <td>False</td>\n",
              "      <td>False</td>\n",
              "      <td>False</td>\n",
              "      <td>False</td>\n",
              "      <td>False</td>\n",
              "      <td>False</td>\n",
              "      <td>False</td>\n",
              "      <td>False</td>\n",
              "      <td>False</td>\n",
              "    </tr>\n",
              "    <tr>\n",
              "      <th>415</th>\n",
              "      <td>False</td>\n",
              "      <td>False</td>\n",
              "      <td>False</td>\n",
              "      <td>False</td>\n",
              "      <td>False</td>\n",
              "      <td>False</td>\n",
              "      <td>False</td>\n",
              "      <td>False</td>\n",
              "      <td>False</td>\n",
              "      <td>False</td>\n",
              "      <td>True</td>\n",
              "      <td>False</td>\n",
              "    </tr>\n",
              "    <tr>\n",
              "      <th>416</th>\n",
              "      <td>False</td>\n",
              "      <td>False</td>\n",
              "      <td>False</td>\n",
              "      <td>False</td>\n",
              "      <td>False</td>\n",
              "      <td>True</td>\n",
              "      <td>False</td>\n",
              "      <td>False</td>\n",
              "      <td>False</td>\n",
              "      <td>False</td>\n",
              "      <td>True</td>\n",
              "      <td>False</td>\n",
              "    </tr>\n",
              "    <tr>\n",
              "      <th>417</th>\n",
              "      <td>False</td>\n",
              "      <td>False</td>\n",
              "      <td>False</td>\n",
              "      <td>False</td>\n",
              "      <td>False</td>\n",
              "      <td>True</td>\n",
              "      <td>False</td>\n",
              "      <td>False</td>\n",
              "      <td>False</td>\n",
              "      <td>False</td>\n",
              "      <td>True</td>\n",
              "      <td>False</td>\n",
              "    </tr>\n",
              "  </tbody>\n",
              "</table>\n",
              "<p>418 rows × 12 columns</p>\n",
              "</div>\n",
              "    <div class=\"colab-df-buttons\">\n",
              "\n",
              "  <div class=\"colab-df-container\">\n",
              "    <button class=\"colab-df-convert\" onclick=\"convertToInteractive('df-54a0e164-5ffd-43f2-a992-4bcbe778b7e9')\"\n",
              "            title=\"Convert this dataframe to an interactive table.\"\n",
              "            style=\"display:none;\">\n",
              "\n",
              "  <svg xmlns=\"http://www.w3.org/2000/svg\" height=\"24px\" viewBox=\"0 -960 960 960\">\n",
              "    <path d=\"M120-120v-720h720v720H120Zm60-500h600v-160H180v160Zm220 220h160v-160H400v160Zm0 220h160v-160H400v160ZM180-400h160v-160H180v160Zm440 0h160v-160H620v160ZM180-180h160v-160H180v160Zm440 0h160v-160H620v160Z\"/>\n",
              "  </svg>\n",
              "    </button>\n",
              "\n",
              "  <style>\n",
              "    .colab-df-container {\n",
              "      display:flex;\n",
              "      gap: 12px;\n",
              "    }\n",
              "\n",
              "    .colab-df-convert {\n",
              "      background-color: #E8F0FE;\n",
              "      border: none;\n",
              "      border-radius: 50%;\n",
              "      cursor: pointer;\n",
              "      display: none;\n",
              "      fill: #1967D2;\n",
              "      height: 32px;\n",
              "      padding: 0 0 0 0;\n",
              "      width: 32px;\n",
              "    }\n",
              "\n",
              "    .colab-df-convert:hover {\n",
              "      background-color: #E2EBFA;\n",
              "      box-shadow: 0px 1px 2px rgba(60, 64, 67, 0.3), 0px 1px 3px 1px rgba(60, 64, 67, 0.15);\n",
              "      fill: #174EA6;\n",
              "    }\n",
              "\n",
              "    .colab-df-buttons div {\n",
              "      margin-bottom: 4px;\n",
              "    }\n",
              "\n",
              "    [theme=dark] .colab-df-convert {\n",
              "      background-color: #3B4455;\n",
              "      fill: #D2E3FC;\n",
              "    }\n",
              "\n",
              "    [theme=dark] .colab-df-convert:hover {\n",
              "      background-color: #434B5C;\n",
              "      box-shadow: 0px 1px 3px 1px rgba(0, 0, 0, 0.15);\n",
              "      filter: drop-shadow(0px 1px 2px rgba(0, 0, 0, 0.3));\n",
              "      fill: #FFFFFF;\n",
              "    }\n",
              "  </style>\n",
              "\n",
              "    <script>\n",
              "      const buttonEl =\n",
              "        document.querySelector('#df-54a0e164-5ffd-43f2-a992-4bcbe778b7e9 button.colab-df-convert');\n",
              "      buttonEl.style.display =\n",
              "        google.colab.kernel.accessAllowed ? 'block' : 'none';\n",
              "\n",
              "      async function convertToInteractive(key) {\n",
              "        const element = document.querySelector('#df-54a0e164-5ffd-43f2-a992-4bcbe778b7e9');\n",
              "        const dataTable =\n",
              "          await google.colab.kernel.invokeFunction('convertToInteractive',\n",
              "                                                    [key], {});\n",
              "        if (!dataTable) return;\n",
              "\n",
              "        const docLinkHtml = 'Like what you see? Visit the ' +\n",
              "          '<a target=\"_blank\" href=https://colab.research.google.com/notebooks/data_table.ipynb>data table notebook</a>'\n",
              "          + ' to learn more about interactive tables.';\n",
              "        element.innerHTML = '';\n",
              "        dataTable['output_type'] = 'display_data';\n",
              "        await google.colab.output.renderOutput(dataTable, element);\n",
              "        const docLink = document.createElement('div');\n",
              "        docLink.innerHTML = docLinkHtml;\n",
              "        element.appendChild(docLink);\n",
              "      }\n",
              "    </script>\n",
              "  </div>\n",
              "\n",
              "\n",
              "<div id=\"df-e3c83622-81e3-4bb0-8d86-93d6c0b6f8df\">\n",
              "  <button class=\"colab-df-quickchart\" onclick=\"quickchart('df-e3c83622-81e3-4bb0-8d86-93d6c0b6f8df')\"\n",
              "            title=\"Suggest charts\"\n",
              "            style=\"display:none;\">\n",
              "\n",
              "<svg xmlns=\"http://www.w3.org/2000/svg\" height=\"24px\"viewBox=\"0 0 24 24\"\n",
              "     width=\"24px\">\n",
              "    <g>\n",
              "        <path d=\"M19 3H5c-1.1 0-2 .9-2 2v14c0 1.1.9 2 2 2h14c1.1 0 2-.9 2-2V5c0-1.1-.9-2-2-2zM9 17H7v-7h2v7zm4 0h-2V7h2v10zm4 0h-2v-4h2v4z\"/>\n",
              "    </g>\n",
              "</svg>\n",
              "  </button>\n",
              "\n",
              "<style>\n",
              "  .colab-df-quickchart {\n",
              "      --bg-color: #E8F0FE;\n",
              "      --fill-color: #1967D2;\n",
              "      --hover-bg-color: #E2EBFA;\n",
              "      --hover-fill-color: #174EA6;\n",
              "      --disabled-fill-color: #AAA;\n",
              "      --disabled-bg-color: #DDD;\n",
              "  }\n",
              "\n",
              "  [theme=dark] .colab-df-quickchart {\n",
              "      --bg-color: #3B4455;\n",
              "      --fill-color: #D2E3FC;\n",
              "      --hover-bg-color: #434B5C;\n",
              "      --hover-fill-color: #FFFFFF;\n",
              "      --disabled-bg-color: #3B4455;\n",
              "      --disabled-fill-color: #666;\n",
              "  }\n",
              "\n",
              "  .colab-df-quickchart {\n",
              "    background-color: var(--bg-color);\n",
              "    border: none;\n",
              "    border-radius: 50%;\n",
              "    cursor: pointer;\n",
              "    display: none;\n",
              "    fill: var(--fill-color);\n",
              "    height: 32px;\n",
              "    padding: 0;\n",
              "    width: 32px;\n",
              "  }\n",
              "\n",
              "  .colab-df-quickchart:hover {\n",
              "    background-color: var(--hover-bg-color);\n",
              "    box-shadow: 0 1px 2px rgba(60, 64, 67, 0.3), 0 1px 3px 1px rgba(60, 64, 67, 0.15);\n",
              "    fill: var(--button-hover-fill-color);\n",
              "  }\n",
              "\n",
              "  .colab-df-quickchart-complete:disabled,\n",
              "  .colab-df-quickchart-complete:disabled:hover {\n",
              "    background-color: var(--disabled-bg-color);\n",
              "    fill: var(--disabled-fill-color);\n",
              "    box-shadow: none;\n",
              "  }\n",
              "\n",
              "  .colab-df-spinner {\n",
              "    border: 2px solid var(--fill-color);\n",
              "    border-color: transparent;\n",
              "    border-bottom-color: var(--fill-color);\n",
              "    animation:\n",
              "      spin 1s steps(1) infinite;\n",
              "  }\n",
              "\n",
              "  @keyframes spin {\n",
              "    0% {\n",
              "      border-color: transparent;\n",
              "      border-bottom-color: var(--fill-color);\n",
              "      border-left-color: var(--fill-color);\n",
              "    }\n",
              "    20% {\n",
              "      border-color: transparent;\n",
              "      border-left-color: var(--fill-color);\n",
              "      border-top-color: var(--fill-color);\n",
              "    }\n",
              "    30% {\n",
              "      border-color: transparent;\n",
              "      border-left-color: var(--fill-color);\n",
              "      border-top-color: var(--fill-color);\n",
              "      border-right-color: var(--fill-color);\n",
              "    }\n",
              "    40% {\n",
              "      border-color: transparent;\n",
              "      border-right-color: var(--fill-color);\n",
              "      border-top-color: var(--fill-color);\n",
              "    }\n",
              "    60% {\n",
              "      border-color: transparent;\n",
              "      border-right-color: var(--fill-color);\n",
              "    }\n",
              "    80% {\n",
              "      border-color: transparent;\n",
              "      border-right-color: var(--fill-color);\n",
              "      border-bottom-color: var(--fill-color);\n",
              "    }\n",
              "    90% {\n",
              "      border-color: transparent;\n",
              "      border-bottom-color: var(--fill-color);\n",
              "    }\n",
              "  }\n",
              "</style>\n",
              "\n",
              "  <script>\n",
              "    async function quickchart(key) {\n",
              "      const quickchartButtonEl =\n",
              "        document.querySelector('#' + key + ' button');\n",
              "      quickchartButtonEl.disabled = true;  // To prevent multiple clicks.\n",
              "      quickchartButtonEl.classList.add('colab-df-spinner');\n",
              "      try {\n",
              "        const charts = await google.colab.kernel.invokeFunction(\n",
              "            'suggestCharts', [key], {});\n",
              "      } catch (error) {\n",
              "        console.error('Error during call to suggestCharts:', error);\n",
              "      }\n",
              "      quickchartButtonEl.classList.remove('colab-df-spinner');\n",
              "      quickchartButtonEl.classList.add('colab-df-quickchart-complete');\n",
              "    }\n",
              "    (() => {\n",
              "      let quickchartButtonEl =\n",
              "        document.querySelector('#df-e3c83622-81e3-4bb0-8d86-93d6c0b6f8df button');\n",
              "      quickchartButtonEl.style.display =\n",
              "        google.colab.kernel.accessAllowed ? 'block' : 'none';\n",
              "    })();\n",
              "  </script>\n",
              "</div>\n",
              "    </div>\n",
              "  </div>\n"
            ]
          },
          "metadata": {},
          "execution_count": 3
        }
      ]
    },
    {
      "cell_type": "code",
      "source": [
        "from sklearn import preprocessing\n",
        "s = preprocessing.LabelEncoder()\n",
        "datak[\"Name\"] =s.fit_transform(datak[\"Name\"])\n",
        "datak[\"Name\"].unique()"
      ],
      "metadata": {
        "colab": {
          "base_uri": "https://localhost:8080/"
        },
        "id": "MGsD7948r6Ej",
        "outputId": "26e5be20-b573-4418-df74-f01ef3b0352c"
      },
      "execution_count": null,
      "outputs": [
        {
          "output_type": "execute_result",
          "data": {
            "text/plain": [
              "array([206, 403, 269, 408, 178, 366,  84,  57,   4, 103, 187, 196, 352,\n",
              "       184,  69, 415, 204,  21, 188,  20, 324, 284, 138, 406, 329, 318,\n",
              "       288,  97,  44, 339, 236, 190, 109, 195, 264, 203, 323,  55, 342,\n",
              "       170, 202, 148, 158,  88, 212, 300,  72, 345,  53,  92, 348, 309,\n",
              "       179, 144, 247, 314,  86,   2, 106,  71, 115, 255,  36,  43, 327,\n",
              "        89,  54, 265, 378, 145, 267, 263, 275, 289, 152, 205, 261,  90,\n",
              "         6, 121,  40, 363,  66, 111, 221, 209,  27,  25, 281, 392, 129,\n",
              "       299, 101, 163,  35, 369,  68, 244,  45, 271, 360, 391, 141, 192,\n",
              "       373, 182,  52, 326, 405, 367, 358, 346, 133,  51, 364,  75, 371,\n",
              "       341,  28,  70, 390, 211, 343,  65, 207,  94,  47, 254,  42, 303,\n",
              "       357, 161, 225, 370, 116,  62, 411, 344, 122, 160, 159, 100, 328,\n",
              "        29, 227, 379, 175, 102,  93, 220, 130, 250, 362, 217,  17, 126,\n",
              "        34, 237,  38, 297, 350, 376, 410, 298, 301, 215,  46, 143,  67,\n",
              "       171, 233, 412, 128, 375,  18,  48, 347, 359,  31,  82, 256,  81,\n",
              "       249, 222, 119, 251, 304, 104, 334, 381,  13, 338, 417, 232, 123,\n",
              "       200, 354, 277,  26, 311, 268,  99,  23, 310,  11, 286, 257,  80,\n",
              "       321, 110,   8, 137, 107, 185,   9, 169, 242, 399, 401, 374, 127,\n",
              "       312,  85, 199,  59, 266,  19, 259, 134, 180, 368, 404, 402, 230,\n",
              "        96, 382, 389,  24, 176, 120, 229,  74, 355, 186, 194, 208, 201,\n",
              "       124, 181, 210, 395,   3,  76, 337, 394, 240, 243, 276,  32, 260,\n",
              "       414, 278, 393, 216, 308, 239,  73, 388, 183, 306, 252, 146,  77,\n",
              "       226, 330,  50, 293, 135, 385, 290, 287, 295, 139, 377, 320, 113,\n",
              "       147, 351, 248, 142, 313,  98, 272, 117, 409,  12, 223, 340, 235,\n",
              "       193, 285, 245, 305, 307, 253,  95,   7,   5, 168, 165,  56, 380,\n",
              "       331,  63, 398, 164, 356, 319, 197, 191,  10, 218, 274, 325, 219,\n",
              "        22,  30, 322,  78, 132, 105, 125, 372, 270,  87, 241, 413, 131,\n",
              "       112,  33, 136, 238, 335,  61, 416,   1,  39, 396, 157, 383, 162,\n",
              "       361, 114, 174, 108, 198,  49, 234, 282, 228, 333, 246, 387, 365,\n",
              "       167, 336,  60, 315, 154, 291, 156, 407, 189, 166, 118,  41, 213,\n",
              "        91, 177,  16, 280, 140, 317, 258, 397, 173,  14,  15,  58, 292,\n",
              "       294, 231,   0, 155, 214, 349,  79, 150, 224,  83,  37, 151, 153,\n",
              "        64, 149, 279, 386, 400, 316, 296, 273, 262, 172, 353, 283, 332,\n",
              "       384, 302])"
            ]
          },
          "metadata": {},
          "execution_count": 4
        }
      ]
    },
    {
      "cell_type": "code",
      "source": [
        "datak[\"Sex\"] =s.fit_transform(datak[\"Sex\"])\n",
        "datak[\"Sex\"].unique()"
      ],
      "metadata": {
        "colab": {
          "base_uri": "https://localhost:8080/"
        },
        "id": "YFg4v8dYsA3N",
        "outputId": "daa604f5-3887-4c93-869f-1f50855dbcf8"
      },
      "execution_count": null,
      "outputs": [
        {
          "output_type": "execute_result",
          "data": {
            "text/plain": [
              "array([1, 0])"
            ]
          },
          "metadata": {},
          "execution_count": 5
        }
      ]
    },
    {
      "cell_type": "code",
      "source": [
        "datak[\"Ticket\"] =s.fit_transform(datak[\"Ticket\"])\n",
        "datak[\"Ticket\"].unique()"
      ],
      "metadata": {
        "colab": {
          "base_uri": "https://localhost:8080/"
        },
        "id": "545r2nIpsJOB",
        "outputId": "b56e52f7-9b1a-49f1-bae7-9542938f2f2d"
      },
      "execution_count": null,
      "outputs": [
        {
          "output_type": "execute_result",
          "data": {
            "text/plain": [
              "array([152, 221,  73, 147, 138, 261, 158,  84, 100, 269, 195, 259,  52,\n",
              "        74, 362, 343,  60, 119, 356, 120, 316, 277, 314, 313, 319, 273,\n",
              "        14, 121,  11, 104, 338, 283, 280, 360,  34, 115, 166, 141, 172,\n",
              "        39, 204,  16, 347,  65,  24, 355, 312, 243,  30, 290,  37, 344,\n",
              "       131,  49, 335, 249, 198, 191, 253, 199,  64, 185, 159, 300, 155,\n",
              "        22,  89, 250, 194, 137, 306,  13, 219,  28,  85, 236, 111, 303,\n",
              "        47, 201,  72, 102, 150, 268, 224, 130, 179, 168, 297, 246,  38,\n",
              "       209,  46, 354, 190, 266,  29,  57, 227, 178,  92, 278, 153, 252,\n",
              "       163,  83,  68, 156, 304, 149, 113, 114, 328,  33, 337, 286, 232,\n",
              "       255, 237, 245, 210, 231,  51, 164, 357,  17, 256,  90, 196, 216,\n",
              "        99,  81, 353, 294,  18,  78,  43, 171,  41, 336,  20,  88,  26,\n",
              "       203, 239, 214, 181, 332, 189,   1, 351, 161,  94,  54, 167,  66,\n",
              "       146, 310, 361,  45, 262, 331, 106, 108, 134, 285,  58, 322,  59,\n",
              "        15, 263, 305,  71, 330, 270, 296, 126,  56,   3, 274,  61, 125,\n",
              "       187,  40, 177, 284, 257, 229, 183, 323,  93, 287, 298, 264, 123,\n",
              "       320, 202, 348, 333, 186,   9, 154, 238, 148, 340, 165, 359, 211,\n",
              "       317, 103, 212, 241, 293,  76,  55,  21, 135, 157, 315, 218,   2,\n",
              "       112,  87, 327,   6,  70, 175,  42, 107, 289, 352,  35, 260, 174,\n",
              "       291, 276, 222, 127, 169, 170, 217, 288, 200,   4, 292, 265, 144,\n",
              "       235, 242, 110,  62, 334, 133, 295, 358, 140, 226, 240, 272, 350,\n",
              "        98, 271, 318, 248,  95, 162, 173, 193, 345,  23, 188, 182,  69,\n",
              "       143, 251,   8, 254,  32, 208, 142, 101, 302, 233, 326, 275, 307,\n",
              "       122, 215, 180,  97,  80,  19,  75, 349, 309,  50,  63, 308, 116,\n",
              "        96, 197,   0,  79, 109,  91, 279, 213, 321, 192,  67, 117,  82,\n",
              "       299, 325, 301,  10,  27,  31, 234, 206, 329, 139,  25, 118, 136,\n",
              "         7, 339, 124,   5,  86, 145, 132, 258, 230, 151, 223, 247, 341,\n",
              "       207,  77, 225, 205, 311, 281, 282, 244,  36, 176,  53, 128,  12,\n",
              "        44, 342, 129, 160, 228,  48, 184, 267, 324, 346, 220, 105])"
            ]
          },
          "metadata": {},
          "execution_count": 6
        }
      ]
    },
    {
      "cell_type": "code",
      "source": [
        "datak[\"Embarked\"] =s.fit_transform(datak[\"Embarked\"])\n",
        "datak[\"Embarked\"].unique()"
      ],
      "metadata": {
        "colab": {
          "base_uri": "https://localhost:8080/"
        },
        "id": "ZweTTO5csPMJ",
        "outputId": "a34294c4-2893-42be-90e4-6b9d90b56ccf"
      },
      "execution_count": null,
      "outputs": [
        {
          "output_type": "execute_result",
          "data": {
            "text/plain": [
              "array([1, 2, 0])"
            ]
          },
          "metadata": {},
          "execution_count": 7
        }
      ]
    },
    {
      "cell_type": "code",
      "source": [
        "datak[\"Cabin\"] =s.fit_transform(datak[\"Cabin\"])\n",
        "datak[\"Cabin\"].unique()"
      ],
      "metadata": {
        "colab": {
          "base_uri": "https://localhost:8080/"
        },
        "id": "rCE0aTIqsY1u",
        "outputId": "d7dedb42-d5d5-4969-8325-1b5318b511bd"
      },
      "execution_count": null,
      "outputs": [
        {
          "output_type": "execute_result",
          "data": {
            "text/plain": [
              "array([76, 12, 60, 15, 10,  2, 41, 55, 50,  5, 49, 30, 28, 71, 17, 35, 59,\n",
              "       25, 26, 21, 37, 19, 33, 24, 68,  3, 75, 38, 29, 34, 64, 36, 46, 52,\n",
              "        6, 74, 63, 66, 54, 16, 61, 39,  0,  7, 42, 73, 43, 56, 44, 51, 45,\n",
              "       69,  4, 47,  9, 27, 18, 31, 20, 70, 72,  1, 23, 13, 48, 67, 65, 62,\n",
              "       14, 32,  8, 53, 11, 40, 58, 57, 22])"
            ]
          },
          "metadata": {},
          "execution_count": 8
        }
      ]
    },
    {
      "cell_type": "code",
      "source": [
        "datak[\"Age\"] =s.fit_transform(datak[\"Age\"])\n",
        "datak[\"Age\"].unique()"
      ],
      "metadata": {
        "colab": {
          "base_uri": "https://localhost:8080/"
        },
        "id": "ITKplyD6seqP",
        "outputId": "1375b7dd-7130-422e-ac89-72c47f6d4683"
      },
      "execution_count": null,
      "outputs": [
        {
          "output_type": "execute_result",
          "data": {
            "text/plain": [
              "array([44, 60, 74, 34, 27, 17, 38, 32, 22, 26, 79, 59, 29, 75, 30, 45, 58,\n",
              "       67, 12, 61, 63, 28, 54, 42, 23, 31, 51, 71, 46, 25, 35, 13, 21, 40,\n",
              "       16, 39, 37, 36, 41,  9, 77, 62,  6, 78, 56, 20,  5, 15, 55, 65, 33,\n",
              "       52, 73, 72, 10, 19, 66, 76, 48, 43, 14, 11,  1, 49, 68, 53,  4, 24,\n",
              "       47,  2,  3, 69,  0, 70, 18, 57,  8, 64,  7, 50])"
            ]
          },
          "metadata": {},
          "execution_count": 9
        }
      ]
    },
    {
      "cell_type": "code",
      "source": [
        "datak[\"Fare\"] =s.fit_transform(datak[\"Fare\"])\n",
        "datak[\"Fare\"].unique()"
      ],
      "metadata": {
        "colab": {
          "base_uri": "https://localhost:8080/"
        },
        "id": "QJtSDpLAslNy",
        "outputId": "0dcbdd04-dc57-4edb-83b2-caaae45fa987"
      },
      "execution_count": null,
      "outputs": [
        {
          "output_type": "execute_result",
          "data": {
            "text/plain": [
              "array([ 24,   5,  41,  34,  46,  37,  14, 100,   8,  89,  29,  93, 149,\n",
              "       135,  96,  47,   7,  30, 133,   1, 108, 136, 166,  61, 137, 104,\n",
              "        82, 106,  79,  88, 132,  31,  40, 131,  51,  94,  25,  50, 128,\n",
              "       102,  19, 145,  71, 134,  62,  86, 167,  68, 101,  15,  73,  52,\n",
              "        17,  80,  27, 118,  99, 162,  91,  65, 163,  43,  59,  56,  20,\n",
              "       127,  22, 146,  26, 130,  33,  85,  23,  35,  63,  21, 107,  10,\n",
              "         2,  74, 143,  70,   9,  87,  98,  90, 121, 159,  76, 126, 150,\n",
              "       169,  45, 105,  11,  53,  18,  83, 124, 110,  36, 113, 111, 129,\n",
              "       165,  72, 140, 109, 155,  42,  32,  66,  58, 164,  92,   6, 142,\n",
              "       119, 160,  54,  95,  64, 139,   3, 141, 144, 153, 103,  28,  97,\n",
              "       157,  38,  75,  48,   0,  77, 115,   4, 148, 117, 120,  39, 152,\n",
              "        57,  12, 156, 158, 161, 147,  69,  13, 168, 138, 125,  67, 112,\n",
              "        60, 116,  44, 123,  49,  81, 114,  78, 122,  55,  16, 151, 154,\n",
              "        84])"
            ]
          },
          "metadata": {},
          "execution_count": 10
        }
      ]
    },
    {
      "cell_type": "code",
      "source": [
        "print(\"**************** FEATURES *******************\")\n",
        "x = datak.iloc[:,:-1].values\n",
        "print(\"\\n\",x)"
      ],
      "metadata": {
        "colab": {
          "base_uri": "https://localhost:8080/"
        },
        "id": "FT57Gk_jsqor",
        "outputId": "3d49ef38-1d5e-443a-9360-8e9b9dc365f8"
      },
      "execution_count": null,
      "outputs": [
        {
          "output_type": "stream",
          "name": "stdout",
          "text": [
            "**************** FEATURES *******************\n",
            "\n",
            " [[ 892    0    3 ...  152   24   76]\n",
            " [ 893    1    3 ...  221    5   76]\n",
            " [ 894    0    2 ...   73   41   76]\n",
            " ...\n",
            " [1307    0    3 ...  346    9   76]\n",
            " [1308    0    3 ...  220   31   76]\n",
            " [1309    0    3 ...  105   84   76]]\n"
          ]
        }
      ]
    },
    {
      "cell_type": "code",
      "source": [
        "print(\"******************** TARGET *********************\")\n",
        "y = datak[\"Pclass\"]\n",
        "print(\"\\n\",y)"
      ],
      "metadata": {
        "colab": {
          "base_uri": "https://localhost:8080/"
        },
        "id": "DhnuRr-LsvL4",
        "outputId": "4cfbdb6c-3f51-4a70-b832-a8230f645771"
      },
      "execution_count": null,
      "outputs": [
        {
          "output_type": "stream",
          "name": "stdout",
          "text": [
            "******************** TARGET *********************\n",
            "\n",
            " 0      3\n",
            "1      3\n",
            "2      2\n",
            "3      3\n",
            "4      3\n",
            "      ..\n",
            "413    3\n",
            "414    1\n",
            "415    3\n",
            "416    3\n",
            "417    3\n",
            "Name: Pclass, Length: 418, dtype: int64\n"
          ]
        }
      ]
    },
    {
      "cell_type": "code",
      "source": [
        "print(\" ********************* DATA SPLITTING ************************* \")\n",
        "from sklearn.model_selection import train_test_split\n",
        "x_train,x_test,y_train,y_test = train_test_split(x,y,test_size=0.30,shuffle=True)\n",
        "print(\"--------------------------- X-Train ---------------------------\")\n",
        "print(\"\\n\",x_train)"
      ],
      "metadata": {
        "colab": {
          "base_uri": "https://localhost:8080/"
        },
        "id": "qe9dejJdsy5F",
        "outputId": "93905954-1074-491e-a1c3-545aae8bf81d"
      },
      "execution_count": null,
      "outputs": [
        {
          "output_type": "stream",
          "name": "stdout",
          "text": [
            " ********************* DATA SPLITTING ************************* \n",
            "--------------------------- X-Train ---------------------------\n",
            "\n",
            " [[1288    0    3 ...  244    9   76]\n",
            " [1172    1    3 ...  140   34   76]\n",
            " [1269    0    2 ...  132   44   76]\n",
            " ...\n",
            " [1113    0    3 ...  165   31   76]\n",
            " [1044    0    3 ...  239  169   76]\n",
            " [1260    1    1 ...    7  133   76]]\n"
          ]
        }
      ]
    },
    {
      "cell_type": "code",
      "source": [
        "print(\" --------------------------X- Test ----------------------------\")\n",
        "print(x_test)"
      ],
      "metadata": {
        "colab": {
          "base_uri": "https://localhost:8080/"
        },
        "id": "LMO0ePM0s4hN",
        "outputId": "9d8f31a9-1890-4d51-e952-e08ae967a707"
      },
      "execution_count": null,
      "outputs": [
        {
          "output_type": "stream",
          "name": "stdout",
          "text": [
            " --------------------------X- Test ----------------------------\n",
            "[[1182    0    1 ...  318  115   76]\n",
            " [1216    1    1 ...   75  161   76]\n",
            " [1002    0    2 ...   68   63   76]\n",
            " ...\n",
            " [1040    0    1 ...   20   94   76]\n",
            " [ 998    0    3 ...  153   23   76]\n",
            " [1011    1    2 ...  337   93   76]]\n"
          ]
        }
      ]
    },
    {
      "cell_type": "code",
      "source": [
        "print(\" --------------------------- Y-Train ----------------------------\")\n",
        "print(y_train)"
      ],
      "metadata": {
        "colab": {
          "base_uri": "https://localhost:8080/"
        },
        "id": "j8Ujub0zs7Yt",
        "outputId": "b1b48837-8ee0-4441-9162-935c99ea8c78"
      },
      "execution_count": null,
      "outputs": [
        {
          "output_type": "stream",
          "name": "stdout",
          "text": [
            " --------------------------- Y-Train ----------------------------\n",
            "396    3\n",
            "280    3\n",
            "377    2\n",
            "362    2\n",
            "94     1\n",
            "      ..\n",
            "31     2\n",
            "382    3\n",
            "221    3\n",
            "152    3\n",
            "368    1\n",
            "Name: Pclass, Length: 292, dtype: int64\n"
          ]
        }
      ]
    },
    {
      "cell_type": "code",
      "source": [
        "print(\" --------------------------Y- Test ----------------------------\")\n",
        "print(y_test)"
      ],
      "metadata": {
        "colab": {
          "base_uri": "https://localhost:8080/"
        },
        "id": "E9bi17TXs-a9",
        "outputId": "a4f57c8e-6cbd-4d62-8113-2f6208336357"
      },
      "execution_count": null,
      "outputs": [
        {
          "output_type": "stream",
          "name": "stdout",
          "text": [
            " --------------------------Y- Test ----------------------------\n",
            "290    1\n",
            "324    1\n",
            "110    2\n",
            "157    3\n",
            "278    2\n",
            "      ..\n",
            "80     3\n",
            "367    3\n",
            "148    1\n",
            "106    3\n",
            "119    2\n",
            "Name: Pclass, Length: 126, dtype: int64\n"
          ]
        }
      ]
    },
    {
      "cell_type": "code",
      "source": [
        "from sklearn.linear_model import LogisticRegression\n",
        "from sklearn.metrics import accuracy_score\n",
        "l=LogisticRegression()\n",
        "l.fit(x_train, y_train)\n",
        "pred=l.predict(x_test)\n",
        "print(\"---------------------- LOGISTIC REGRESSION ------------------------\")"
      ],
      "metadata": {
        "colab": {
          "base_uri": "https://localhost:8080/"
        },
        "id": "Fv_V5o4ltBU9",
        "outputId": "c7dd87be-b301-4ef0-e561-f2548c545a84"
      },
      "execution_count": null,
      "outputs": [
        {
          "output_type": "stream",
          "name": "stdout",
          "text": [
            "---------------------- LOGISTIC REGRESSION ------------------------\n"
          ]
        },
        {
          "output_type": "stream",
          "name": "stderr",
          "text": [
            "/usr/local/lib/python3.10/dist-packages/sklearn/linear_model/_logistic.py:458: ConvergenceWarning: lbfgs failed to converge (status=1):\n",
            "STOP: TOTAL NO. of ITERATIONS REACHED LIMIT.\n",
            "\n",
            "Increase the number of iterations (max_iter) or scale the data as shown in:\n",
            "    https://scikit-learn.org/stable/modules/preprocessing.html\n",
            "Please also refer to the documentation for alternative solver options:\n",
            "    https://scikit-learn.org/stable/modules/linear_model.html#logistic-regression\n",
            "  n_iter_i = _check_optimize_result(\n"
          ]
        }
      ]
    },
    {
      "cell_type": "code",
      "source": [
        "print(\"Confusion Matrics for Logistic Regression:\")\n",
        "from sklearn.metrics import confusion_matrix\n",
        "print(\"\\n\",confusion_matrix(y_test,pred))"
      ],
      "metadata": {
        "colab": {
          "base_uri": "https://localhost:8080/"
        },
        "id": "zpjPAlputEJM",
        "outputId": "05f26b38-3a6b-4c90-f3ce-60bc1f471093"
      },
      "execution_count": null,
      "outputs": [
        {
          "output_type": "stream",
          "name": "stdout",
          "text": [
            "Confusion Matrics for Logistic Regression:\n",
            "\n",
            " [[27  6  1]\n",
            " [ 0 13 15]\n",
            " [ 1  7 56]]\n"
          ]
        }
      ]
    },
    {
      "cell_type": "code",
      "source": [
        "from sklearn.metrics import classification_report\n",
        "print(\"**************************************************************\")\n",
        "print(\"\\tClassification Report for Logistic Regression:\")\n",
        "print(\"\\n\",classification_report(y_test,pred))\n",
        "print(\"**************************************************************\")"
      ],
      "metadata": {
        "colab": {
          "base_uri": "https://localhost:8080/"
        },
        "id": "mlH-Tm8DtHo-",
        "outputId": "c6e76106-72e2-4755-f4e5-e9024067955f"
      },
      "execution_count": null,
      "outputs": [
        {
          "output_type": "stream",
          "name": "stdout",
          "text": [
            "**************************************************************\n",
            "\tClassification Report for Logistic Regression:\n",
            "\n",
            "               precision    recall  f1-score   support\n",
            "\n",
            "           1       0.96      0.79      0.87        34\n",
            "           2       0.50      0.46      0.48        28\n",
            "           3       0.78      0.88      0.82        64\n",
            "\n",
            "    accuracy                           0.76       126\n",
            "   macro avg       0.75      0.71      0.73       126\n",
            "weighted avg       0.77      0.76      0.76       126\n",
            "\n",
            "**************************************************************\n"
          ]
        }
      ]
    }
  ]
}